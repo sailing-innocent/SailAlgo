{
 "cells": [
  {
   "cell_type": "markdown",
   "metadata": {},
   "source": [
    "# Derivative of Quaternion\n",
    "\n",
    "简单计算一下四元数到旋转矩阵的微分"
   ]
  },
  {
   "cell_type": "code",
   "execution_count": null,
   "metadata": {},
   "outputs": [
    {
     "name": "stdout",
     "output_type": "stream",
     "text": [
      "\n",
      "$$\n",
      "\\begin{aligned}\n",
      "dx &= \n",
      "2 dM_{01} s_{1} y + 2 dM_{02} s_{1} z + 2 dM_{10} s_{2} y - 4 dM_{11} s_{2} x - 2 dM_{12} s_{2} w + 2 dM_{20} s_{3} z + 2 dM_{21} s_{3} w - 4 dM_{22} s_{3} x\n",
      "\\\\dy &= \n",
      "- 4 dM_{00} s_{1} y + 2 dM_{01} s_{1} x + 2 dM_{02} s_{1} w + 2 dM_{10} s_{2} x + 2 dM_{12} s_{2} z - 2 dM_{20} s_{3} w + 2 dM_{21} s_{3} z - 4 dM_{22} s_{3} y\n",
      "\\\\dz &= \n",
      "- 4 dM_{00} s_{1} z - 2 dM_{01} s_{1} w + 2 dM_{02} s_{1} x + 2 dM_{10} s_{2} w - 4 dM_{11} s_{2} z + 2 dM_{12} s_{2} y + 2 dM_{20} s_{3} x + 2 dM_{21} s_{3} y\n",
      "\\\\dw &= \n",
      "- 2 dM_{01} s_{1} z + 2 dM_{02} s_{1} y + 2 dM_{10} s_{2} z - 2 dM_{12} s_{2} x - 2 dM_{20} s_{3} y + 2 dM_{21} s_{3} x\n",
      "\\end{aligned}\n",
      "$$\n"
     ]
    }
   ],
   "source": [
    "import sympy as sp \n",
    "import numpy as np \n",
    "\n",
    "x, y, z, w = sp.symbols('x y z w')\n",
    "R00 = 1 - 2*y**2 - 2*z**2\n",
    "R01 = 2*x*y - 2*z*w\n",
    "R02 = 2*x*z + 2*y*w\n",
    "R10 = 2*x*y + 2*z*w\n",
    "R11 = 1 - 2*x**2 - 2*z**2\n",
    "R12 = 2*y*z - 2*x*w\n",
    "R20 = 2*x*z - 2*y*w\n",
    "R21 = 2*y*z + 2*x*w\n",
    "R22 = 1 - 2*x**2 - 2*y**2\n",
    "R = sp.Matrix([[R00, R01, R02], [R10, R11, R12], [R20, R21, R22]])\n",
    "\n",
    "s1, s2, s3 = sp.symbols('s1 s2 s3')\n",
    "# diagonal\n",
    "S = sp.Matrix([[s1, 0, 0], [0, s2, 0], [0, 0, s3]])\n",
    "# M = S * R\n",
    "M = S * R\n",
    "\n",
    "dMdx = M.diff(x)\n",
    "dMdy = M.diff(y)\n",
    "dMdz = M.diff(z)\n",
    "dMdw = M.diff(w)\n",
    "\n",
    "dM00, dM01, dM02 = sp.symbols('dM00 dM01 dM02')\n",
    "dM10, dM11, dM12 = sp.symbols('dM10 dM11 dM12')\n",
    "dM20, dM21, dM22 = sp.symbols('dM20 dM21 dM22')\n",
    "dM = sp.Matrix([[dM00, dM01, dM02], [dM10, dM11, dM12], [dM20, dM21, dM22]])\n",
    "# backward\n",
    "dx = 0\n",
    "dy = 0\n",
    "dz = 0\n",
    "dw = 0\n",
    "for i in range(3):\n",
    "    for j in range(3):\n",
    "        if (dx == 0):\n",
    "            dx = dMdx[i, j] * dM[i, j]\n",
    "        else:\n",
    "            dx += dMdx[i, j] * dM[i, j]\n",
    "\n",
    "        if (dy == 0):\n",
    "            dy = dMdy[i, j] * dM[i, j]\n",
    "        else:\n",
    "            dy += dMdy[i, j] * dM[i, j]\n",
    "\n",
    "        if (dz == 0):\n",
    "            dz = dMdz[i, j] * dM[i, j]\n",
    "        else:\n",
    "            dz += dMdz[i, j] * dM[i, j]\n",
    "\n",
    "        if (dw == 0):\n",
    "            dw = dMdw[i, j] * dM[i, j]\n",
    "        else:\n",
    "            dw += dMdw[i, j] * dM[i, j]\n",
    "\n",
    "print()\n",
    "print(\"$$\")\n",
    "print(\"\\\\begin{aligned}\")\n",
    "print(\"dx &= \")\n",
    "sp.print_latex(dx)\n",
    "print(\"\\\\\\\\dy &= \")\n",
    "sp.print_latex(dy)\n",
    "print(\"\\\\\\\\dz &= \")\n",
    "sp.print_latex(dz)\n",
    "print(\"\\\\\\\\dw &= \")\n",
    "sp.print_latex(dw)\n",
    "print(\"\\\\end{aligned}\")\n",
    "print(\"$$\")"
   ]
  },
  {
   "cell_type": "markdown",
   "metadata": {},
   "source": [
    "\n",
    "$$\n",
    "\\begin{aligned}\n",
    "dx &= \n",
    "2 dM_{01} s_{1} y + 2 dM_{02} s_{1} z + 2 dM_{10} s_{2} y - 4 dM_{11} s_{2} x - 2 dM_{12} s_{2} w + 2 dM_{20} s_{3} z + 2 dM_{21} s_{3} w - 4 dM_{22} s_{3} x\n",
    "\\\\dy &= \n",
    "- 4 dM_{00} s_{1} y + 2 dM_{01} s_{1} x + 2 dM_{02} s_{1} w + 2 dM_{10} s_{2} x + 2 dM_{12} s_{2} z - 2 dM_{20} s_{3} w + 2 dM_{21} s_{3} z - 4 dM_{22} s_{3} y\n",
    "\\\\dz &= \n",
    "- 4 dM_{00} s_{1} z - 2 dM_{01} s_{1} w + 2 dM_{02} s_{1} x + 2 dM_{10} s_{2} w - 4 dM_{11} s_{2} z + 2 dM_{12} s_{2} y + 2 dM_{20} s_{3} x + 2 dM_{21} s_{3} y\n",
    "\\\\dw &= \n",
    "- 2 dM_{01} s_{1} z + 2 dM_{02} s_{1} y + 2 dM_{10} s_{2} z - 2 dM_{12} s_{2} x - 2 dM_{20} s_{3} y + 2 dM_{21} s_{3} x\n",
    "\\end{aligned}\n",
    "$$"
   ]
  }
 ],
 "metadata": {
  "kernelspec": {
   "display_name": "Python 3",
   "language": "python",
   "name": "python3"
  },
  "language_info": {
   "codemirror_mode": {
    "name": "ipython",
    "version": 3
   },
   "file_extension": ".py",
   "mimetype": "text/x-python",
   "name": "python",
   "nbconvert_exporter": "python",
   "pygments_lexer": "ipython3",
   "version": "3.11.11"
  }
 },
 "nbformat": 4,
 "nbformat_minor": 2
}
