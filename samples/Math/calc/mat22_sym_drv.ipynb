{
 "cells": [
  {
   "cell_type": "markdown",
   "metadata": {},
   "source": [
    "# Simple Derivatives\n",
    "\n",
    "这篇文档主要用来计算一些常用的微分，用sympy进行推导之后用numpy简单实现并验证，后续可以迁移到不同语言环境下"
   ]
  },
  {
   "cell_type": "code",
   "execution_count": 2,
   "metadata": {},
   "outputs": [
    {
     "name": "stdout",
     "output_type": "stream",
     "text": [
      "dC00 = \n",
      "\\frac{2 C_{01} C_{11} dC^{-1}_{01}}{\\left(C_{00} C_{11} - C_{01}^{2}\\right)^{2}} - \\frac{C_{11}^{2} dC^{-1}_{00}}{\\left(C_{00} C_{11} - C_{01}^{2}\\right)^{2}} + dC^{-1}_{11} \\left(- \\frac{C_{00} C_{11}}{\\left(C_{00} C_{11} - C_{01}^{2}\\right)^{2}} + \\frac{1}{C_{00} C_{11} - C_{01}^{2}}\\right)\n",
      "dC01 = \n",
      "\\frac{C_{00} C_{01} dC^{-1}_{11}}{\\left(C_{00} C_{11} - C_{01}^{2}\\right)^{2}} + \\frac{C_{01} C_{11} dC^{-1}_{00}}{\\left(C_{00} C_{11} - C_{01}^{2}\\right)^{2}} + dC^{-1}_{01} \\left(- \\frac{2 C_{01}^{2}}{\\left(C_{00} C_{11} - C_{01}^{2}\\right)^{2}} - \\frac{1}{C_{00} C_{11} - C_{01}^{2}}\\right)\n",
      "dC11 = \n",
      "- \\frac{C_{00}^{2} dC^{-1}_{11}}{\\left(C_{00} C_{11} - C_{01}^{2}\\right)^{2}} + \\frac{2 C_{00} C_{01} dC^{-1}_{01}}{\\left(C_{00} C_{11} - C_{01}^{2}\\right)^{2}} + dC^{-1}_{00} \\left(- \\frac{C_{00} C_{11}}{\\left(C_{00} C_{11} - C_{01}^{2}\\right)^{2}} + \\frac{1}{C_{00} C_{11} - C_{01}^{2}}\\right)\n",
      "Test Case\n",
      "[1.0, 2.0, 3.0]\n",
      "C_inv_val = \n",
      "[-3.00000000000000, 2.00000000000000, 2.00000000000000, -1.00000000000000]\n",
      "[0.1, 0.2, 0.3]\n",
      "[0.300000000000000, -0.200000000000000, 0.100000000000000]\n"
     ]
    }
   ],
   "source": [
    "import sympy as sp\n",
    "import matplotlib.pyplot as plt\n",
    "import numpy as np \n",
    "\n",
    "C00, C01, C11 = sp.symbols('C_{00} C_{01} C_{11}')\n",
    "C = sp.Matrix([[C00, C01], [C01, C11]])\n",
    "\n",
    "det_C = C.det()\n",
    "C_inv = C.inv()\n",
    "\n",
    "dCdC00 = sp.diff(C_inv, C00)\n",
    "dCdC01 = sp.diff(C_inv, C01)\n",
    "dCdC11 = sp.diff(C_inv, C11)\n",
    "\n",
    "dCinv00, dCinv01, dCinv11 = sp.symbols('dC^{-1}_{00} dC^{-1}_{01} dC^{-1}_{11}')\n",
    "\n",
    "dC00 = dCinv00 * dCdC00[0, 0] + dCinv01 * dCdC00[0, 1] + dCinv01 * dCdC00[1, 0] + dCinv11 * dCdC00[1, 1]\n",
    "dC01 = dCinv00 * dCdC01[0, 0] + dCinv01 * dCdC01[0, 1] + dCinv01 * dCdC01[1, 0] + dCinv11 * dCdC01[1, 1]\n",
    "dC01 = dC01 / 2 # symmetrize\n",
    "dC11 = dCinv00 * dCdC11[0, 0] + dCinv01 * dCdC11[0, 1] + dCinv01 * dCdC11[1, 0] + dCinv11 * dCdC11[1, 1]\n",
    "\n",
    "print(\"dC00 = \")\n",
    "sp.print_latex(dC00)\n",
    "print(\"dC01 = \")\n",
    "sp.print_latex(dC01)\n",
    "print(\"dC11 = \")\n",
    "sp.print_latex(dC11)\n",
    "\n",
    "# generate test case \n",
    "print(\"Test Case\")\n",
    "C00_val = 1.0\n",
    "C01_val = 2.0\n",
    "C11_val = 3.0\n",
    "C_inv_val = C.inv().subs({C00: C00_val, C01: C01_val, C11: C11_val})\n",
    "\n",
    "dCinv00_val = 0.1\n",
    "dCinv01_val = 0.2\n",
    "dCinv02_val = 0.3\n",
    "\n",
    "dC00_val = dC00.subs({C00: C00_val, C01: C01_val, C11: C11_val, dCinv00: dCinv00_val, dCinv01: dCinv01_val, dCinv11: dCinv02_val})\n",
    "dC01_val = dC01.subs({C00: C00_val, C01: C01_val, C11: C11_val, dCinv00: dCinv00_val, dCinv01: dCinv01_val, dCinv11: dCinv02_val})\n",
    "dC11_val = dC11.subs({C00: C00_val, C01: C01_val, C11: C11_val, dCinv00: dCinv00_val, dCinv01: dCinv01_val, dCinv11: dCinv02_val})\n",
    "\n",
    "print([C00_val, C01_val, C11_val])\n",
    "print(\"C_inv_val = \")  \n",
    "print([C_inv_val[0, 0].evalf(), C_inv_val[0, 1].evalf(), C_inv_val[1, 0].evalf(), C_inv_val[1, 1].evalf()])\n",
    "print([dCinv00_val, dCinv01_val, dCinv02_val])\n",
    "print([dC00_val.evalf(), dC01_val.evalf(), dC11_val.evalf()])\n"
   ]
  },
  {
   "cell_type": "markdown",
   "metadata": {},
   "source": [
    "$$\n",
    "\\begin{aligned}\n",
    "dC_{00} &= \n",
    "\\frac{2 C_{01} C_{11} dC^{-1}_{01}}{\\left(C_{00} C_{11} - C_{01}^{2}\\right)^{2}} - \\frac{C_{11}^{2} dC^{-1}_{00}}{\\left(C_{00} C_{11} - C_{01}^{2}\\right)^{2}} + dC^{-1}_{11} \\left(- \\frac{C_{00} C_{11}}{\\left(C_{00} C_{11} - C_{01}^{2}\\right)^{2}} + \\frac{1}{C_{00} C_{11} - C_{01}^{2}}\\right) \\\\\n",
    "dC_{01} &= \n",
    "\\frac{C_{00} C_{01} dC^{-1}_{11}}{\\left(C_{00} C_{11} - C_{01}^{2}\\right)^{2}} + \\frac{C_{01} C_{11} dC^{-1}_{00}}{\\left(C_{00} C_{11} - C_{01}^{2}\\right)^{2}} + dC^{-1}_{01} \\left(- \\frac{2 C_{01}^{2}}{\\left(C_{00} C_{11} - C_{01}^{2}\\right)^{2}} - \\frac{1}{C_{00} C_{11} - C_{01}^{2}}\\right) \\\\\n",
    "dC_{11} &= \n",
    "- \\frac{C_{00}^{2} dC^{-1}_{11}}{\\left(C_{00} C_{11} - C_{01}^{2}\\right)^{2}} + \\frac{2 C_{00} C_{01} dC^{-1}_{01}}{\\left(C_{00} C_{11} - C_{01}^{2}\\right)^{2}} + dC^{-1}_{00} \\left(- \\frac{C_{00} C_{11}}{\\left(C_{00} C_{11} - C_{01}^{2}\\right)^{2}} + \\frac{1}{C_{00} C_{11} - C_{01}^{2}}\\right) \\\\\n",
    "\\end{aligned}\n",
    "$$\n"
   ]
  },
  {
   "cell_type": "markdown",
   "metadata": {},
   "source": [
    "Below is one common way to simplify the formulas. One may define\n",
    "\n",
    "  Δ = C₀₀·C₁₁ – C₀₁².\n",
    "\n",
    "Then the three equations become\n",
    "\n",
    "  dC₀₀ = [2·C₀₁·C₁₁·dC⁻¹₀₁ – C₁₁²·dC⁻¹₀₀ – C₀₁²·dC⁻¹₁₁]⁄Δ²,\n",
    "\n",
    "  dC₀₁ = [C₀₀·C₀₁·dC⁻¹₁₁ + C₀₁·C₁₁·dC⁻¹₀₀ – (C₀₀·C₁₁ + C₀₁²)·dC⁻¹₀₁]⁄Δ²,\n",
    "\n",
    "  dC₁₁ = [2·C₀₀·C₀₁·dC⁻¹₀₁ – C₀₀²·dC⁻¹₁₁ – C₀₁²·dC⁻¹₀₀]⁄Δ².\n",
    "\n",
    "In other words, writing\n",
    "\n",
    "  Δ = C₀₀C₁₁ – C₀₁²\n",
    "\n",
    "the simplified derivatives are\n",
    "\n",
    "  dC₀₀ = (2C₀₁C₁₁ dC⁻¹₀₁ – C₁₁² dC⁻¹₀₀ – C₀₁² dC⁻¹₁₁)⁄Δ²,\n",
    "  dC₀₁ = (C₀₀C₀₁ dC⁻¹₁₁ + C₀₁C₁₁ dC⁻¹₀₀ – (C₀₀C₁₁ + C₀₁²) dC⁻¹₀₁)⁄Δ²,\n",
    "  dC₁₁ = (2C₀₀C₀₁ dC⁻¹₀₁ – C₀₀² dC⁻¹₁₁ – C₀₁² dC⁻¹₀₀)⁄Δ².\n",
    "\n",
    "These forms group the common factors (a denominator of Δ²) so that all the dependence on the original matrix elements is explicit. (There are several algebraically equivalent ways to express these derivatives.)"
   ]
  }
 ],
 "metadata": {
  "kernelspec": {
   "display_name": "Python 3",
   "language": "python",
   "name": "python3"
  },
  "language_info": {
   "codemirror_mode": {
    "name": "ipython",
    "version": 3
   },
   "file_extension": ".py",
   "mimetype": "text/x-python",
   "name": "python",
   "nbconvert_exporter": "python",
   "pygments_lexer": "ipython3",
   "version": "3.11.11"
  }
 },
 "nbformat": 4,
 "nbformat_minor": 2
}
