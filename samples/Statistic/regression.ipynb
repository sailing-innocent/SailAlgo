{
 "cells": [
  {
   "cell_type": "code",
   "execution_count": 1,
   "metadata": {},
   "outputs": [
    {
     "name": "stdout",
     "output_type": "stream",
     "text": [
      "torch.Size([10, 4, 1])\n",
      "torch.Size([10, 3, 3])\n",
      "torch.Size([10, 3, 1])\n",
      "tensor([[[-3.2131e-08],\n",
      "         [ 1.0000e+00],\n",
      "         [ 2.0000e+00]],\n",
      "\n",
      "        [[ 3.0000e+00],\n",
      "         [ 4.0000e+00],\n",
      "         [ 5.0000e+00]],\n",
      "\n",
      "        [[ 6.0000e+00],\n",
      "         [ 7.0000e+00],\n",
      "         [ 8.0000e+00]],\n",
      "\n",
      "        [[ 9.0000e+00],\n",
      "         [ 1.0000e+01],\n",
      "         [ 1.1000e+01]],\n",
      "\n",
      "        [[ 1.2000e+01],\n",
      "         [ 1.3000e+01],\n",
      "         [ 1.4000e+01]],\n",
      "\n",
      "        [[ 1.5000e+01],\n",
      "         [ 1.6000e+01],\n",
      "         [ 1.7000e+01]],\n",
      "\n",
      "        [[ 1.8000e+01],\n",
      "         [ 1.9000e+01],\n",
      "         [ 2.0000e+01]],\n",
      "\n",
      "        [[ 2.1000e+01],\n",
      "         [ 2.2000e+01],\n",
      "         [ 2.3000e+01]],\n",
      "\n",
      "        [[ 2.4000e+01],\n",
      "         [ 2.5000e+01],\n",
      "         [ 2.6000e+01]],\n",
      "\n",
      "        [[ 2.7000e+01],\n",
      "         [ 2.8000e+01],\n",
      "         [ 2.9000e+01]]])\n",
      "torch.Size([10, 3, 1])\n"
     ]
    }
   ],
   "source": [
    "import torch\n",
    "\n",
    "N_batch = 10\n",
    "N_in_dim = 3\n",
    "N_out_dim = 1\n",
    "N_sample = 4\n",
    "W = torch.arange(N_batch * N_in_dim).reshape(N_batch, N_in_dim, N_out_dim).float()\n",
    "X = torch.randn(N_batch, N_sample, N_in_dim)\n",
    "# repeat N samples\n",
    "Y = torch.matmul(X, W)\n",
    "print(Y.shape)\n",
    "assert Y.shape == (N_batch, N_sample, N_out_dim)\n",
    "# (X^T X)^-1 X^T Y\n",
    "XTX = torch.matmul(X.transpose(1, 2), X)\n",
    "# print(XTX)\n",
    "XTX_inv = XTX.inverse()\n",
    "print(XTX_inv.shape)\n",
    "XTY = torch.matmul(X.transpose(1, 2), Y)\n",
    "print(XTY.shape)\n",
    "W_next = torch.matmul(XTX_inv, XTY)\n",
    "print(W_next)\n",
    "print(W_next.shape)\n"
   ]
  }
 ],
 "metadata": {
  "kernelspec": {
   "display_name": "Python 3",
   "language": "python",
   "name": "python3"
  },
  "language_info": {
   "codemirror_mode": {
    "name": "ipython",
    "version": 3
   },
   "file_extension": ".py",
   "mimetype": "text/x-python",
   "name": "python",
   "nbconvert_exporter": "python",
   "pygments_lexer": "ipython3",
   "version": "3.11.11"
  }
 },
 "nbformat": 4,
 "nbformat_minor": 2
}
